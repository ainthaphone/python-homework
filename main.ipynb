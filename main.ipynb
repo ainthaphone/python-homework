{
 "cells": [
  {
   "cell_type": "code",
   "execution_count": 12,
   "metadata": {},
   "outputs": [
    {
     "name": "stdout",
     "output_type": "stream",
     "text": [
      "Header: Date,Profit/Losses\n",
      "\n",
      "Financial Analysis\n",
      "-----------------------------\n",
      "Total Months: 86\n",
      "Total: $38382578\n",
      "Average Change: $-2315.1176470588234\n",
      "Greatest Increase in Profits: Feb-2012 $1926159\n",
      "Greatest Decrease in Profits: Sep-2013 $-2196167\n"
     ]
    }
   ],
   "source": [
    "import os\n",
    "import csv\n",
    "\n",
    "\n",
    "# files\n",
    "budget_data = os.path.join(\"C:/Users/Owner/Documents/homework\",\n",
    "\t\t\t\t\t   \"02-Python_Homework_PyBank_budget_data.csv\")\n",
    "outFile = os.path.join(\"C:/Users/Owner/Documents/homework\", \"output.txt\")\n",
    "\n",
    "\n",
    "# variables\n",
    "months = []\n",
    "P = []\n",
    "revenue_change = []\n",
    "revenue_average = []\n",
    "month_of_change = []\n",
    "\n",
    "\n",
    "# Read the 02-Python_Homework_PyBank_budget_data.csv file\n",
    "with open(budget_data, newline=\"\") as csvfile:\n",
    "\tcsvreader = csv.reader(csvfile, delimiter=\",\")\n",
    "\tcsv_header = next(csvfile)\n",
    "\n",
    "\t# skip header row\n",
    "\tprint(f\"Header: {csv_header}\")\n",
    "\n",
    "# loop through the data\n",
    "\tfor rows in csvreader:\n",
    "\t\tmonths.append(rows[0])\n",
    "\t\tP.append(int(rows[1]))\n",
    "\n",
    "\t\t# Totaling\n",
    "\t\ttotal_months = len(months)\n",
    "\t\tPx = sum(P)\n",
    "\t\t\t\n",
    "\n",
    "# changes of revenue calculations\n",
    "\tfor x in range(1, len(P)):\n",
    "\t\trevenue_change.append((int(P[x]) - int(P[x-1])))\n",
    "  \n",
    "\t\t# calculate the average revenue outside of the loop\n",
    "\t\trevenue_average = sum(revenue_change) / len(revenue_change)\n",
    "\n",
    "\t\t# Greatest Increase revenue\n",
    "\t\tgreatestIncrease = max(revenue_change)\n",
    "\n",
    "\t\t# Greatest Decrease in revenue\n",
    "\t\tgreatestDecrease = min(revenue_change)\n",
    "\n",
    "\n",
    "# print the outcomes\n",
    "print(\"Financial Analysis\")\n",
    "print(\"-----------------------------\")\n",
    "print(\"Total Months: \" + str(total_months))\n",
    "print(\"Total: \" + \"$\" + str(sum(P)))\n",
    "print(\"Average Change: \" + \"$\" + str(revenue_average))\n",
    "print(\"Greatest Increase in Profits: \" + str(months[revenue_change.index(max(revenue_change))+1]) + \" \" + \"$\" + str(greatestIncrease))\n",
    "print(\"Greatest Decrease in Profits: \" + str(months[revenue_change.index(min(revenue_change))+1]) + \" \" + \"$\" + str(greatestDecrease))\n",
    "\n",
    "\n",
    "# Write to the text path\n",
    "file = open(\"output.txt\", \"w\")\n",
    "file.write(\"Financial Analysis\" + \"\\n\")\n",
    "file.write(\"-----------------------------\"+ \"\\n\")\n",
    "file.write(\"Total Months: \" + str(total_months)+ \"\\n\")\n",
    "file.write(\"Total: \" + \"$\" + str(sum(P))+ \"\\n\")\n",
    "file.write(\"Average Change: \" + \"$\" + str(revenue_average)+ \"\\n\")\n",
    "file.write(\"Greatest Increase in Profits: \" + str(months[revenue_change.index(max(revenue_change))+1]) + \" \" + \"$\" + str(greatestIncrease)+ \"\\n\")\n",
    "file.write(\"Greatest Decrease in Profits: \" + str(months[revenue_change.index(min(revenue_change))+1]) + \" \" + \"$\" + str(greatestDecrease)+ \"\\n\")\n",
    "file.close()\n",
    "\n",
    "\n"
   ]
  },
  {
   "cell_type": "code",
   "execution_count": null,
   "metadata": {},
   "outputs": [],
   "source": []
  }
 ],
 "metadata": {
  "kernelspec": {
   "display_name": "Python 3",
   "language": "python",
   "name": "python3"
  },
  "language_info": {
   "codemirror_mode": {
    "name": "ipython",
    "version": 3
   },
   "file_extension": ".py",
   "mimetype": "text/x-python",
   "name": "python",
   "nbconvert_exporter": "python",
   "pygments_lexer": "ipython3",
   "version": "3.8.3"
  }
 },
 "nbformat": 4,
 "nbformat_minor": 4
}
